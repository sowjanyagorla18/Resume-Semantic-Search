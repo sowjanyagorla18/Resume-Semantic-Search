{
  "nbformat": 4,
  "nbformat_minor": 0,
  "metadata": {
    "colab": {
      "provenance": []
    },
    "kernelspec": {
      "name": "python3",
      "display_name": "Python 3"
    },
    "language_info": {
      "name": "python"
    }
  },
  "cells": [
    {
      "cell_type": "code",
      "execution_count": 1,
      "metadata": {
        "id": "Ej2wH5paEaj0",
        "colab": {
          "base_uri": "https://localhost:8080/"
        },
        "outputId": "37cedebf-6d77-49fe-ee99-21245bfdb0f1"
      },
      "outputs": [
        {
          "output_type": "stream",
          "name": "stdout",
          "text": [
            "Mounted at /content/drive\n"
          ]
        }
      ],
      "source": [
        "from google.colab import drive\n",
        "drive.mount('/content/drive')\n"
      ]
    },
    {
      "cell_type": "code",
      "source": [
        "import os"
      ],
      "metadata": {
        "id": "2ZfJ8-Ockbg5"
      },
      "execution_count": 2,
      "outputs": []
    },
    {
      "cell_type": "code",
      "source": [
        "!pip install PyPDF2"
      ],
      "metadata": {
        "colab": {
          "base_uri": "https://localhost:8080/"
        },
        "id": "yG4Y8qFylJSv",
        "outputId": "308d268a-b041-4eb6-a8cd-b07ef4725749"
      },
      "execution_count": 3,
      "outputs": [
        {
          "output_type": "stream",
          "name": "stdout",
          "text": [
            "Collecting PyPDF2\n",
            "  Downloading pypdf2-3.0.1-py3-none-any.whl (232 kB)\n",
            "\u001b[?25l     \u001b[90m━━━━━━━━━━━━━━━━━━━━━━━━━━━━━━━━━━━━━━━━\u001b[0m \u001b[32m0.0/232.6 kB\u001b[0m \u001b[31m?\u001b[0m eta \u001b[36m-:--:--\u001b[0m\r\u001b[2K     \u001b[91m━━━━━━━━━━━━━━━━━━━━━━━━━━━━━━━━━\u001b[0m\u001b[90m╺\u001b[0m\u001b[90m━━━━━━\u001b[0m \u001b[32m194.6/232.6 kB\u001b[0m \u001b[31m5.8 MB/s\u001b[0m eta \u001b[36m0:00:01\u001b[0m\r\u001b[2K     \u001b[90m━━━━━━━━━━━━━━━━━━━━━━━━━━━━━━━━━━━━━━━━\u001b[0m \u001b[32m232.6/232.6 kB\u001b[0m \u001b[31m5.2 MB/s\u001b[0m eta \u001b[36m0:00:00\u001b[0m\n",
            "\u001b[?25hInstalling collected packages: PyPDF2\n",
            "Successfully installed PyPDF2-3.0.1\n"
          ]
        }
      ]
    },
    {
      "cell_type": "code",
      "source": [
        "\n",
        "from PyPDF2 import PdfReader\n",
        "import spacy\n",
        "\n",
        "nlp = spacy.load(\"en_core_web_sm\")\n",
        "\n",
        "class PyPDFDirectoryLoader:\n",
        "    def __init__(self, directory):\n",
        "        self.directory = directory\n",
        "\n",
        "    def load(self):\n",
        "        docs = []\n",
        "        for filename in os.listdir(self.directory):\n",
        "            filepath = os.path.join(self.directory, filename)\n",
        "            try:\n",
        "                with open(filepath, 'rb') as f:\n",
        "                    pdf_reader = PdfReader(f)\n",
        "                    text = \"\"\n",
        "                    for page in pdf_reader.pages:\n",
        "                        page_text = page.extract_text()\n",
        "                        if page_text:  # Ensure the extracted text is not None\n",
        "                            text += page_text\n",
        "                    docs.append((filename, text))\n",
        "            except Exception as e:\n",
        "                print(f\"Error processing {filepath}: {e}\")\n",
        "        return docs\n",
        "\n",
        "def extract_resume_sections(text):\n",
        "    sections = {}\n",
        "    lines = text.split(\"\\n\")\n",
        "    current_section = None\n",
        "    for line in lines:\n",
        "        line = line.strip()\n",
        "        if line.lower() in [\"education\", \"experience\", \"summary\", \"skills\", \"projects\"]:\n",
        "            current_section = line.lower()\n",
        "            sections[current_section] = \"\"\n",
        "        elif current_section:\n",
        "            sections[current_section] += line + \" \"\n",
        "    return sections\n",
        "\n",
        "def preprocess_text(text):\n",
        "    doc = nlp(text)\n",
        "    processed_text = \" \".join(token.lemma_ for token in doc if not token.is_stop)\n",
        "    return processed_text\n",
        "\n",
        "\n",
        "loader = PyPDFDirectoryLoader(\"/content/drive/MyDrive/resume_dataset\")\n",
        "docs = loader.load()\n",
        "print(f\"Loaded {len(docs)} documents.\")\n",
        "\n",
        "preprocessed_resumes = []\n",
        "for filename, text in docs:\n",
        "    sections = extract_resume_sections(text)\n",
        "    combined_text = \" \".join(sections.values())\n",
        "    preprocessed_text = preprocess_text(combined_text)\n",
        "    preprocessed_resumes.append((filename, preprocessed_text))\n",
        "\n",
        "resumes_text = [text for filename, text in preprocessed_resumes]\n",
        "resumes_filenames = [filename for filename, text in preprocessed_resumes]\n"
      ],
      "metadata": {
        "colab": {
          "base_uri": "https://localhost:8080/"
        },
        "id": "_WVPkGaOlWc5",
        "outputId": "2a0d4600-4a8b-4d46-fc85-4c990d35b177"
      },
      "execution_count": 4,
      "outputs": [
        {
          "output_type": "stream",
          "name": "stderr",
          "text": [
            "WARNING:PyPDF2._reader:incorrect startxref pointer(3)\n",
            "WARNING:PyPDF2._reader:incorrect startxref pointer(3)\n"
          ]
        },
        {
          "output_type": "stream",
          "name": "stdout",
          "text": [
            "Error processing /content/drive/MyDrive/resume_dataset/sandhyalakshmi676@gmail.com_resume.pdf: Cannot read an empty file\n"
          ]
        },
        {
          "output_type": "stream",
          "name": "stderr",
          "text": [
            "WARNING:PyPDF2._reader:incorrect startxref pointer(3)\n",
            "WARNING:PyPDF2._reader:incorrect startxref pointer(3)\n",
            "WARNING:PyPDF2._reader:incorrect startxref pointer(3)\n",
            "WARNING:PyPDF2._reader:incorrect startxref pointer(1)\n",
            "WARNING:PyPDF2._reader:incorrect startxref pointer(3)\n",
            "WARNING:PyPDF2._reader:incorrect startxref pointer(3)\n",
            "WARNING:PyPDF2._reader:incorrect startxref pointer(3)\n",
            "WARNING:PyPDF2._reader:incorrect startxref pointer(3)\n",
            "WARNING:PyPDF2._reader:incorrect startxref pointer(3)\n",
            "WARNING:PyPDF2._reader:incorrect startxref pointer(3)\n"
          ]
        },
        {
          "output_type": "stream",
          "name": "stdout",
          "text": [
            "Loaded 999 documents.\n"
          ]
        }
      ]
    },
    {
      "cell_type": "code",
      "source": [
        "from sklearn.feature_extraction.text import TfidfVectorizer\n",
        "from sklearn.metrics.pairwise import cosine_similarity\n",
        "def filter_resumes(resumes, query):\n",
        "    vectorizer = TfidfVectorizer(stop_words='english')\n",
        "    resume_texts = [text for filename, text in resumes]\n",
        "    tfidf_matrix = vectorizer.fit_transform(resume_texts)\n",
        "    query_vec = vectorizer.transform([query])\n",
        "    cosine_similarities = cosine_similarity(query_vec, tfidf_matrix).flatten()\n",
        "    relevant_resumes = []\n",
        "    for idx, sim in enumerate(cosine_similarities):\n",
        "        if sim > 0.1:\n",
        "            relevant_resumes.append(resumes[idx][0])\n",
        "    return relevant_resumes\n"
      ],
      "metadata": {
        "id": "S2MYUiFmml1V"
      },
      "execution_count": 5,
      "outputs": []
    },
    {
      "cell_type": "code",
      "source": [
        "!pip install PyPDF2 spacy flask pyngrok"
      ],
      "metadata": {
        "colab": {
          "base_uri": "https://localhost:8080/"
        },
        "id": "46pWxJMziRoY",
        "outputId": "2e70da17-be28-4727-f7cc-1f854d6499bd"
      },
      "execution_count": 11,
      "outputs": [
        {
          "output_type": "stream",
          "name": "stdout",
          "text": [
            "Requirement already satisfied: PyPDF2 in /usr/local/lib/python3.10/dist-packages (3.0.1)\n",
            "Requirement already satisfied: spacy in /usr/local/lib/python3.10/dist-packages (3.7.5)\n",
            "Requirement already satisfied: flask in /usr/local/lib/python3.10/dist-packages (2.2.5)\n",
            "Collecting pyngrok\n",
            "  Downloading pyngrok-7.1.6-py3-none-any.whl (22 kB)\n",
            "Requirement already satisfied: spacy-legacy<3.1.0,>=3.0.11 in /usr/local/lib/python3.10/dist-packages (from spacy) (3.0.12)\n",
            "Requirement already satisfied: spacy-loggers<2.0.0,>=1.0.0 in /usr/local/lib/python3.10/dist-packages (from spacy) (1.0.5)\n",
            "Requirement already satisfied: murmurhash<1.1.0,>=0.28.0 in /usr/local/lib/python3.10/dist-packages (from spacy) (1.0.10)\n",
            "Requirement already satisfied: cymem<2.1.0,>=2.0.2 in /usr/local/lib/python3.10/dist-packages (from spacy) (2.0.8)\n",
            "Requirement already satisfied: preshed<3.1.0,>=3.0.2 in /usr/local/lib/python3.10/dist-packages (from spacy) (3.0.9)\n",
            "Requirement already satisfied: thinc<8.3.0,>=8.2.2 in /usr/local/lib/python3.10/dist-packages (from spacy) (8.2.5)\n",
            "Requirement already satisfied: wasabi<1.2.0,>=0.9.1 in /usr/local/lib/python3.10/dist-packages (from spacy) (1.1.3)\n",
            "Requirement already satisfied: srsly<3.0.0,>=2.4.3 in /usr/local/lib/python3.10/dist-packages (from spacy) (2.4.8)\n",
            "Requirement already satisfied: catalogue<2.1.0,>=2.0.6 in /usr/local/lib/python3.10/dist-packages (from spacy) (2.0.10)\n",
            "Requirement already satisfied: weasel<0.5.0,>=0.1.0 in /usr/local/lib/python3.10/dist-packages (from spacy) (0.4.1)\n",
            "Requirement already satisfied: typer<1.0.0,>=0.3.0 in /usr/local/lib/python3.10/dist-packages (from spacy) (0.12.3)\n",
            "Requirement already satisfied: tqdm<5.0.0,>=4.38.0 in /usr/local/lib/python3.10/dist-packages (from spacy) (4.66.4)\n",
            "Requirement already satisfied: requests<3.0.0,>=2.13.0 in /usr/local/lib/python3.10/dist-packages (from spacy) (2.31.0)\n",
            "Requirement already satisfied: pydantic!=1.8,!=1.8.1,<3.0.0,>=1.7.4 in /usr/local/lib/python3.10/dist-packages (from spacy) (2.8.0)\n",
            "Requirement already satisfied: jinja2 in /usr/local/lib/python3.10/dist-packages (from spacy) (3.1.4)\n",
            "Requirement already satisfied: setuptools in /usr/local/lib/python3.10/dist-packages (from spacy) (67.7.2)\n",
            "Requirement already satisfied: packaging>=20.0 in /usr/local/lib/python3.10/dist-packages (from spacy) (24.1)\n",
            "Requirement already satisfied: langcodes<4.0.0,>=3.2.0 in /usr/local/lib/python3.10/dist-packages (from spacy) (3.4.0)\n",
            "Requirement already satisfied: numpy>=1.19.0 in /usr/local/lib/python3.10/dist-packages (from spacy) (1.25.2)\n",
            "Requirement already satisfied: Werkzeug>=2.2.2 in /usr/local/lib/python3.10/dist-packages (from flask) (3.0.3)\n",
            "Requirement already satisfied: itsdangerous>=2.0 in /usr/local/lib/python3.10/dist-packages (from flask) (2.2.0)\n",
            "Requirement already satisfied: click>=8.0 in /usr/local/lib/python3.10/dist-packages (from flask) (8.1.7)\n",
            "Requirement already satisfied: PyYAML>=5.1 in /usr/local/lib/python3.10/dist-packages (from pyngrok) (6.0.1)\n",
            "Requirement already satisfied: MarkupSafe>=2.0 in /usr/local/lib/python3.10/dist-packages (from jinja2->spacy) (2.1.5)\n",
            "Requirement already satisfied: language-data>=1.2 in /usr/local/lib/python3.10/dist-packages (from langcodes<4.0.0,>=3.2.0->spacy) (1.2.0)\n",
            "Requirement already satisfied: annotated-types>=0.4.0 in /usr/local/lib/python3.10/dist-packages (from pydantic!=1.8,!=1.8.1,<3.0.0,>=1.7.4->spacy) (0.7.0)\n",
            "Requirement already satisfied: pydantic-core==2.20.0 in /usr/local/lib/python3.10/dist-packages (from pydantic!=1.8,!=1.8.1,<3.0.0,>=1.7.4->spacy) (2.20.0)\n",
            "Requirement already satisfied: typing-extensions>=4.6.1 in /usr/local/lib/python3.10/dist-packages (from pydantic!=1.8,!=1.8.1,<3.0.0,>=1.7.4->spacy) (4.12.2)\n",
            "Requirement already satisfied: charset-normalizer<4,>=2 in /usr/local/lib/python3.10/dist-packages (from requests<3.0.0,>=2.13.0->spacy) (3.3.2)\n",
            "Requirement already satisfied: idna<4,>=2.5 in /usr/local/lib/python3.10/dist-packages (from requests<3.0.0,>=2.13.0->spacy) (3.7)\n",
            "Requirement already satisfied: urllib3<3,>=1.21.1 in /usr/local/lib/python3.10/dist-packages (from requests<3.0.0,>=2.13.0->spacy) (2.0.7)\n",
            "Requirement already satisfied: certifi>=2017.4.17 in /usr/local/lib/python3.10/dist-packages (from requests<3.0.0,>=2.13.0->spacy) (2024.6.2)\n",
            "Requirement already satisfied: blis<0.8.0,>=0.7.8 in /usr/local/lib/python3.10/dist-packages (from thinc<8.3.0,>=8.2.2->spacy) (0.7.11)\n",
            "Requirement already satisfied: confection<1.0.0,>=0.0.1 in /usr/local/lib/python3.10/dist-packages (from thinc<8.3.0,>=8.2.2->spacy) (0.1.5)\n",
            "Requirement already satisfied: shellingham>=1.3.0 in /usr/local/lib/python3.10/dist-packages (from typer<1.0.0,>=0.3.0->spacy) (1.5.4)\n",
            "Requirement already satisfied: rich>=10.11.0 in /usr/local/lib/python3.10/dist-packages (from typer<1.0.0,>=0.3.0->spacy) (13.7.1)\n",
            "Requirement already satisfied: cloudpathlib<1.0.0,>=0.7.0 in /usr/local/lib/python3.10/dist-packages (from weasel<0.5.0,>=0.1.0->spacy) (0.18.1)\n",
            "Requirement already satisfied: smart-open<8.0.0,>=5.2.1 in /usr/local/lib/python3.10/dist-packages (from weasel<0.5.0,>=0.1.0->spacy) (7.0.4)\n",
            "Requirement already satisfied: marisa-trie>=0.7.7 in /usr/local/lib/python3.10/dist-packages (from language-data>=1.2->langcodes<4.0.0,>=3.2.0->spacy) (1.2.0)\n",
            "Requirement already satisfied: markdown-it-py>=2.2.0 in /usr/local/lib/python3.10/dist-packages (from rich>=10.11.0->typer<1.0.0,>=0.3.0->spacy) (3.0.0)\n",
            "Requirement already satisfied: pygments<3.0.0,>=2.13.0 in /usr/local/lib/python3.10/dist-packages (from rich>=10.11.0->typer<1.0.0,>=0.3.0->spacy) (2.16.1)\n",
            "Requirement already satisfied: wrapt in /usr/local/lib/python3.10/dist-packages (from smart-open<8.0.0,>=5.2.1->weasel<0.5.0,>=0.1.0->spacy) (1.14.1)\n",
            "Requirement already satisfied: mdurl~=0.1 in /usr/local/lib/python3.10/dist-packages (from markdown-it-py>=2.2.0->rich>=10.11.0->typer<1.0.0,>=0.3.0->spacy) (0.1.2)\n",
            "Installing collected packages: pyngrok\n",
            "Successfully installed pyngrok-7.1.6\n"
          ]
        }
      ]
    },
    {
      "cell_type": "code",
      "source": [
        "from flask import Flask, request, render_template_string\n",
        "from pyngrok import ngrok\n",
        "app = Flask(__name__)\n",
        "\n",
        "html_template = \"\"\"\n",
        "<!DOCTYPE html>\n",
        "<html lang=\"en\">\n",
        "<head>\n",
        "    <meta charset=\"UTF-8\">\n",
        "    <meta name=\"viewport\" content=\"width=device-width, initial-scale=1.0\">\n",
        "    <title>Resume Semantic Search</title>\n",
        "    <link rel=\"stylesheet\" href=\"https://stackpath.bootstrapcdn.com/bootstrap/4.3.1/css/bootstrap.min.css\">\n",
        "</head>\n",
        "<body>\n",
        "    <div class=\"container\">\n",
        "        <h1 class=\"mt-5\">SkillCatalyst</h1>\n",
        "        <form method=\"POST\" action=\"/search\">\n",
        "            <div class=\"form-group\">\n",
        "                <label for=\"query\">Enter Your Search Criteria:</label>\n",
        "                <input type=\"text\" class=\"form-control\" id=\"query\" name=\"query\" required>\n",
        "            </div>\n",
        "            <button type=\"submit\" class=\"btn btn-primary\">Search</button>\n",
        "        </form>\n",
        "        {% if query %}\n",
        "            <h2 class=\"mt-5\">List of Resumes:</h2>\n",
        "            {% if resumes %}\n",
        "                <ul class=\"list-group\">\n",
        "                    {% for resume in resumes %}\n",
        "                        <li class=\"list-group-item\">{{ resume }}</li>\n",
        "                    {% endfor %}\n",
        "                </ul>\n",
        "            {% else %}\n",
        "                <p>No relevant resumes found.</p>\n",
        "            {% endif %}\n",
        "        {% endif %}\n",
        "    </div>\n",
        "</body>\n",
        "</html>\n",
        "\"\"\"\n",
        "\n",
        "@app.route(\"/\", methods=[\"GET\"])\n",
        "def home():\n",
        "    return render_template_string(html_template)\n",
        "\n",
        "@app.route(\"/search\", methods=[\"POST\"])\n",
        "def search():\n",
        "    query = request.form[\"query\"]\n",
        "    relevant_resumes = filter_resumes(preprocessed_resumes, query)\n",
        "    return render_template_string(html_template, query=query, resumes=relevant_resumes)\n",
        "\n",
        "\n",
        "def start_ngrok():\n",
        "    authtoken = \"your_ngrok_authtoken\"\n",
        "    ngrok.set_auth_token(authtoken)\n",
        "    public_url = ngrok.connect(5000, bind_tls=True)\n",
        "    print(f\" * ngrok tunnel available at {public_url}\")\n",
        "    return public_url\n",
        "\n",
        "if __name__ == \"__main__\":\n",
        "    url = start_ngrok()\n",
        "    app.run(port=5000)"
      ],
      "metadata": {
        "id": "Z54PpwoHFwJd",
        "colab": {
          "base_uri": "https://localhost:8080/"
        },
        "outputId": "4808a76a-8c6f-4342-87a0-ed5a80b84b7a"
      },
      "execution_count": 15,
      "outputs": [
        {
          "output_type": "stream",
          "name": "stdout",
          "text": [
            " * ngrok tunnel available at NgrokTunnel: \"https://fc53-34-90-16-22.ngrok-free.app\" -> \"http://localhost:5000\"\n",
            " * Serving Flask app '__main__'\n",
            " * Debug mode: off\n"
          ]
        },
        {
          "output_type": "stream",
          "name": "stderr",
          "text": [
            "INFO:werkzeug:\u001b[31m\u001b[1mWARNING: This is a development server. Do not use it in a production deployment. Use a production WSGI server instead.\u001b[0m\n",
            " * Running on http://127.0.0.1:5000\n",
            "INFO:werkzeug:\u001b[33mPress CTRL+C to quit\u001b[0m\n",
            "INFO:werkzeug:127.0.0.1 - - [04/Jul/2024 03:11:31] \"GET / HTTP/1.1\" 200 -\n",
            "INFO:werkzeug:127.0.0.1 - - [04/Jul/2024 03:11:32] \"\u001b[33mGET /favicon.ico HTTP/1.1\u001b[0m\" 404 -\n",
            "INFO:werkzeug:127.0.0.1 - - [04/Jul/2024 03:12:12] \"POST /search HTTP/1.1\" 200 -\n",
            "INFO:werkzeug:127.0.0.1 - - [04/Jul/2024 03:13:37] \"POST /search HTTP/1.1\" 200 -\n",
            "INFO:werkzeug:127.0.0.1 - - [04/Jul/2024 03:15:02] \"POST /search HTTP/1.1\" 200 -\n",
            "INFO:werkzeug:127.0.0.1 - - [04/Jul/2024 03:16:12] \"POST /search HTTP/1.1\" 200 -\n"
          ]
        }
      ]
    }
  ]
}